{
 "cells": [
  {
   "cell_type": "code",
   "execution_count": 57,
   "id": "40fd80b0-29b5-4bb6-8a9b-8a90e6f5dd40",
   "metadata": {},
   "outputs": [
    {
     "name": "stdout",
     "output_type": "stream",
     "text": [
      "Cuando pierdas, no pierdas la lección.\n",
      "43\n"
     ]
    }
   ],
   "source": [
    "message = [\n",
    "    'Cuando pierdas, no pierdas la lección.',\n",
    "    'No busques los errores, busca un remedio.',\n",
    "    'La vida es una aventura, atrévete.',\n",
    "    'Tu actitud, no tu aptitud,\\n\\ndeterminará tu altitud.',\n",
    "    'Tienes que hacer las cosas que\\n\\ncrees que no puedes hacer.',\n",
    "    'Si te caíste ayer, levántate hoy.',\n",
    "    'Siempre parece imposible... hasta que se hace.',\n",
    "    'Si no pierdes,\\n\\nno puedes disfrutar de las victorias.',\n",
    "    'No dejes que el miedo se interponga en tu camino.',\n",
    "    'Haz de cada día tu obra maestra.',\n",
    "    'No cuentes los días, haz que los días cuenten.',\n",
    "    'El mejor momento del día es ahora.',\n",
    "    'Si la oportunidad no llama,\\n\\nconstruye una puerta.',\n",
    "    'Deja que cada hombre ejerza el arte que domina.',\n",
    "    'El valor de una idea radica en su uso.',\n",
    "    'Piensa, sueña, cree y atrévete.',\n",
    "    'Con autodisciplina casi todo es posible.',\n",
    "    'Los obstáculos son esas cosas atemorizantes\\n\\nque ves cuando apartas los ojos de tu meta.',\n",
    "    'Asegúrate de que colocas tus pies\\n\\nen el lugar correcto, y luego mantente firme.',\n",
    "    'Las ideas pueden cambiar la vida.\\n\\nA veces a lo único que tienes que\\n\\nabrir la puerta es a una buena idea.',\n",
    "    'La mejor manera para empezar es\\n\\ncallándote y empezar a hacer.',\n",
    "    'Si te caes siete veces, levántate ocho.',\n",
    "    'La perfección no es alcanzable,\\n\\npero si perseguimos la perfección\\n\\npodemos conseguir la excelencia.',\n",
    "    'Tienes que esperar cosas de ti mismo\\n\\nantes de poder hacerlas.',\n",
    "    'Transforma tus heridas en sabiduría.',\n",
    "    'La edad no es barrera.\\n\\nEs una limitación que pones en tu mente.',\n",
    "    'Solo aquellos que se arriesgan a ir demasiado\\n\\nlejos pueden descubrir lo lejos que pueden llegar.',\n",
    "    'Del sufrimiento emergieron las almas más fuertes,\\n\\nlos caracteres sólidos tienen cicatrices.',\n",
    "    'El universo no conspira contra ti,\\n\\npero tampoco se desvía para alinear tu camino.',\n",
    "    'La innovación distingue al líder del seguidor.',\n",
    "    'Si puedes soñarlo, puedes hacerlo.',\n",
    "    'El secreto para salir adelante es comenzar.',\n",
    "    'Los obstáculos son esas cosas atemorizantes\\n\\nque ves cuando apartas los ojos de tu meta.',\n",
    "    'La vida es como montar en bicicleta.\\n\\nPara mantener el equilibrio tienes que avanzar.',\n",
    "    'El éxito no es definitivo,\\n\\nel fracaso no es fatídico.\\n\\nLo que cuenta es el valor para continuar.',\n",
    "    'Sé valiente. Toma riesgos.\\n\\nNada puede sustituir la experiencia.',\n",
    "    'El futuro pertenece a aquellos que\\n\\ncreen en la belleza de sus sueños.',\n",
    "    'El conocimiento es poder.',\n",
    "    'Solo puede ser feliz siempre\\n\\nel que sabe ser feliz con todo.',\n",
    "    'Es la capacidad de resistir a los errores\\n\\nlo que a menudo conduce a un mayor éxito.',\n",
    "    'Aferrarse al rencor es como beber veneno\\n\\ny esperar que otra persona muera.',\n",
    "    'No pares cuando estés cansado.\\n\\nPara cuando hayas terminado.',\n",
    "    'El 80% del éxito se basa simplemente en insistir.'\n",
    "]\n",
    "username = \"@_serotoninee\"\n",
    "cp = \"\\N{COPYRIGHT SIGN} 2022\"\n",
    "print(message[0])\n",
    "print(len(message))"
   ]
  },
  {
   "cell_type": "code",
   "execution_count": 59,
   "id": "a3dd456c-9204-4dd5-8b44-e457918a0ff8",
   "metadata": {},
   "outputs": [],
   "source": [
    "from PIL import Image, ImageDraw, ImageFont\n",
    "cout = 0\n",
    "for i in message:\n",
    "    \n",
    "    # Create blank rectangle to write on\n",
    "    image = Image.new('RGB', (1080, 1080), (248, 247, 246, 97))\n",
    "    draw = ImageDraw.Draw(image)\n",
    "    # Every 10 words, line break\n",
    "\n",
    "    bounding_box = [80, 80, 1000, 1000]\n",
    "    x1, y1, x2, y2 = bounding_box  # For easy reading\n",
    "\n",
    "    font = ImageFont.truetype('KiteOne-Regular.ttf', size=40)\n",
    "    font_cp = ImageFont.truetype('KiteOne-Regular.ttf', size=20)\n",
    "\n",
    "    # Calculate the width and height of the text to be drawn, given font size\n",
    "    w, h = draw.textsize(i, font=font)\n",
    "\n",
    "    # Calculate the mid points and offset by the upper left corner of the bounding box\n",
    "    x = (x2 - x1 - w)/2 + x1\n",
    "    y = (y2 - y1 - h)/2 + y1\n",
    "\n",
    "    # Write the text to the image, where (x,y) is the top left corner of the text\n",
    "    draw.text((x, y), i, align='center', font=font, fill=(46,46,46))\n",
    "    \n",
    "    # Write the username to the image.\n",
    "    draw.text((120,910), username, font=font, fill=(80,80,80))\n",
    "    draw.text((890,930), cp, font=font_cp, fill=(80,80,80))\n",
    "\n",
    "    # Draw the bounding box to show that this works\n",
    "    draw.rectangle([x1, y1, x2, y2], outline=(128,128,128))\n",
    "\n",
    "    image.save(f'results/quote{cout}.png')\n",
    "    cout = cout+1"
   ]
  },
  {
   "cell_type": "code",
   "execution_count": null,
   "id": "85870d3a-8d88-4b16-b90f-f928d446037f",
   "metadata": {},
   "outputs": [],
   "source": []
  }
 ],
 "metadata": {
  "kernelspec": {
   "display_name": "Python 3 (ipykernel)",
   "language": "python",
   "name": "python3"
  },
  "language_info": {
   "codemirror_mode": {
    "name": "ipython",
    "version": 3
   },
   "file_extension": ".py",
   "mimetype": "text/x-python",
   "name": "python",
   "nbconvert_exporter": "python",
   "pygments_lexer": "ipython3",
   "version": "3.9.7"
  }
 },
 "nbformat": 4,
 "nbformat_minor": 5
}
